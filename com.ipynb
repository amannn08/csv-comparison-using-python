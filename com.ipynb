{
 "cells": [
  {
   "cell_type": "code",
   "execution_count": 9,
   "metadata": {},
   "outputs": [
    {
     "name": "stdout",
     "output_type": "stream",
     "text": [
      "Files saved: 'comparison_results.csv'\n"
     ]
    }
   ],
   "source": [
    "import pandas as pd\n",
    "\n",
    "brazil_df = pd.read_csv('amz_br_total_products_data_processed.csv')\n",
    "canada_df = pd.read_csv('amz_ca_total_products_data_processed.csv')\n",
    "\n",
    "\n",
    "brazil_df.rename(columns={\n",
    "    'asin': 'ASIN',\n",
    "    'title': 'Title',\n",
    "    'imgUrl': 'Image URL',\n",
    "    'productURL': 'Product URL',\n",
    "    'stars': 'Stars',\n",
    "    'reviews': 'Reviews',\n",
    "    'price': 'Price',\n",
    "    'listPrice': 'List Price',\n",
    "    'categoryName': 'Category',\n",
    "    'isBestSeller': 'Is Best Seller',\n",
    "    'boughtInLastMonth': 'Bought In Last Month'\n",
    "}, inplace=True)\n",
    "\n",
    "canada_df.rename(columns={\n",
    "    'asin': 'ASIN',\n",
    "    'title': 'Title',\n",
    "    'imgUrl': 'Image URL',\n",
    "    'productURL': 'Product URL',\n",
    "    'stars': 'Stars',\n",
    "    'reviews': 'Reviews',\n",
    "    'price': 'Price',\n",
    "    'listPrice': 'List Price',\n",
    "    'categoryName': 'Category',\n",
    "    'isBestSeller': 'Is Best Seller',\n",
    "    'boughtInLastMonth': 'Bought In Last Month'\n",
    "}, inplace=True)\n",
    "\n",
    "\n",
    "merged_df = pd.merge(brazil_df, canada_df, on='ASIN', suffixes=('_Brazil', '_Canada'))\n",
    "\n",
    "\n",
    "comparison_results = {\n",
    "    'Metric': [\n",
    "        'Average Price', \n",
    "        'Average List Price', \n",
    "        'Average Stars', \n",
    "        'Average Reviews', \n",
    "        'Number of Best Sellers', \n",
    "        'Total Products Bought In Last Month', \n",
    "        'Max Price', \n",
    "        'Min Price', \n",
    "        'Price Range',\n",
    "        'Average Price Difference'\n",
    "    ],\n",
    "    'Brazil': [\n",
    "        brazil_df['Price'].mean(),\n",
    "        brazil_df['List Price'].mean(),\n",
    "        brazil_df['Stars'].mean(),\n",
    "        brazil_df['Reviews'].mean(),\n",
    "        brazil_df['Is Best Seller'].sum(),\n",
    "        brazil_df['Bought In Last Month'].sum(),\n",
    "        brazil_df['Price'].max(),\n",
    "        brazil_df['Price'].min(),\n",
    "        brazil_df['Price'].max() - brazil_df['Price'].min(),\n",
    "        (brazil_df['Price'] - canada_df['Price'].mean()).mean()\n",
    "    ],\n",
    "    'Canada': [\n",
    "        canada_df['Price'].mean(),\n",
    "        canada_df['List Price'].mean(),\n",
    "        canada_df['Stars'].mean(),\n",
    "        canada_df['Reviews'].mean(),\n",
    "        canada_df['Is Best Seller'].sum(),\n",
    "        canada_df['Bought In Last Month'].sum(),\n",
    "        canada_df['Price'].max(),\n",
    "        canada_df['Price'].min(),\n",
    "        canada_df['Price'].max() - canada_df['Price'].min(),\n",
    "        (canada_df['Price'] - brazil_df['Price'].mean()).mean()\n",
    "    ]\n",
    "}\n",
    "\n",
    "\n",
    "comparison_results_df = pd.DataFrame(comparison_results)\n",
    "\n",
    "comparison_results_df.to_csv('comparison_results.csv', index=False)\n",
    "\n",
    "print(\"Files saved: 'comparison_results.csv'\")\n"
   ]
  },
  {
   "cell_type": "code",
   "execution_count": null,
   "metadata": {},
   "outputs": [],
   "source": []
  },
  {
   "cell_type": "code",
   "execution_count": null,
   "metadata": {},
   "outputs": [],
   "source": []
  },
  {
   "cell_type": "code",
   "execution_count": null,
   "metadata": {},
   "outputs": [],
   "source": []
  }
 ],
 "metadata": {
  "kernelspec": {
   "display_name": "Python 3",
   "language": "python",
   "name": "python3"
  },
  "language_info": {
   "codemirror_mode": {
    "name": "ipython",
    "version": 3
   },
   "file_extension": ".py",
   "mimetype": "text/x-python",
   "name": "python",
   "nbconvert_exporter": "python",
   "pygments_lexer": "ipython3",
   "version": "3.12.6"
  }
 },
 "nbformat": 4,
 "nbformat_minor": 2
}
