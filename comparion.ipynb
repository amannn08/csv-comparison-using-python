{
 "cells": [
  {
   "cell_type": "code",
   "execution_count": 1,
   "metadata": {},
   "outputs": [
    {
     "name": "stdout",
     "output_type": "stream",
     "text": [
      "Defaulting to user installation because normal site-packages is not writeable\n",
      "Requirement already satisfied: pandas in c:\\users\\aman\\appdata\\local\\packages\\pythonsoftwarefoundation.python.3.12_qbz5n2kfra8p0\\localcache\\local-packages\\python312\\site-packages (2.2.2)\n",
      "Requirement already satisfied: openpyxl in c:\\users\\aman\\appdata\\local\\packages\\pythonsoftwarefoundation.python.3.12_qbz5n2kfra8p0\\localcache\\local-packages\\python312\\site-packages (3.1.5)\n",
      "Requirement already satisfied: numpy>=1.26.0 in c:\\users\\aman\\appdata\\local\\packages\\pythonsoftwarefoundation.python.3.12_qbz5n2kfra8p0\\localcache\\local-packages\\python312\\site-packages (from pandas) (1.26.4)\n",
      "Requirement already satisfied: python-dateutil>=2.8.2 in c:\\users\\aman\\appdata\\local\\packages\\pythonsoftwarefoundation.python.3.12_qbz5n2kfra8p0\\localcache\\local-packages\\python312\\site-packages (from pandas) (2.9.0.post0)\n",
      "Requirement already satisfied: pytz>=2020.1 in c:\\users\\aman\\appdata\\local\\packages\\pythonsoftwarefoundation.python.3.12_qbz5n2kfra8p0\\localcache\\local-packages\\python312\\site-packages (from pandas) (2024.1)\n",
      "Requirement already satisfied: tzdata>=2022.7 in c:\\users\\aman\\appdata\\local\\packages\\pythonsoftwarefoundation.python.3.12_qbz5n2kfra8p0\\localcache\\local-packages\\python312\\site-packages (from pandas) (2024.1)\n",
      "Requirement already satisfied: et-xmlfile in c:\\users\\aman\\appdata\\local\\packages\\pythonsoftwarefoundation.python.3.12_qbz5n2kfra8p0\\localcache\\local-packages\\python312\\site-packages (from openpyxl) (1.1.0)\n",
      "Requirement already satisfied: six>=1.5 in c:\\users\\aman\\appdata\\local\\packages\\pythonsoftwarefoundation.python.3.12_qbz5n2kfra8p0\\localcache\\local-packages\\python312\\site-packages (from python-dateutil>=2.8.2->pandas) (1.16.0)\n",
      "Note: you may need to restart the kernel to use updated packages.\n"
     ]
    }
   ],
   "source": [
    "pip install pandas openpyxl\n"
   ]
  },
  {
   "cell_type": "code",
   "execution_count": 7,
   "metadata": {},
   "outputs": [
    {
     "name": "stdout",
     "output_type": "stream",
     "text": [
      "Files saved: 'merged_products_comparison.csv' and 'comparison_results.csv'\n"
     ]
    }
   ],
   "source": [
    "import pandas as pd\n",
    "\n",
    "# Load CSV files\n",
    "brazil_df = pd.read_csv('amz_br_total_products_data_processed.csv')\n",
    "canada_df = pd.read_csv('amz_ca_total_products_data_processed.csv')\n",
    "\n",
    "# Data Preprocessing\n",
    "brazil_df.rename(columns={\n",
    "    'asin': 'ASIN',\n",
    "    'title': 'Title',\n",
    "    'imgUrl': 'Image URL',\n",
    "    'productURL': 'Product URL',\n",
    "    'stars': 'Stars',\n",
    "    'reviews': 'Reviews',\n",
    "    'price': 'Price',\n",
    "    'listPrice': 'List Price',\n",
    "    'categoryName': 'Category',\n",
    "    'isBestSeller': 'Is Best Seller',\n",
    "    'boughtInLastMonth': 'Bought In Last Month'\n",
    "}, inplace=True)\n",
    "\n",
    "canada_df.rename(columns={\n",
    "    'asin': 'ASIN',\n",
    "    'title': 'Title',\n",
    "    'imgUrl': 'Image URL',\n",
    "    'productURL': 'Product URL',\n",
    "    'stars': 'Stars',\n",
    "    'reviews': 'Reviews',\n",
    "    'price': 'Price',\n",
    "    'listPrice': 'List Price',\n",
    "    'categoryName': 'Category',\n",
    "    'isBestSeller': 'Is Best Seller',\n",
    "    'boughtInLastMonth': 'Bought In Last Month'\n",
    "}, inplace=True)\n",
    "\n",
    "# Merge DataFrames on common columns, e.g., 'ASIN'\n",
    "merged_df = pd.merge(brazil_df, canada_df, on='ASIN', suffixes=('_Brazil', '_Canada'))\n",
    "\n",
    "# Comparison Analysis\n",
    "comparison_results = {\n",
    "    'Metric': [\n",
    "        'Average Price', \n",
    "        'Average List Price', \n",
    "        'Average Stars', \n",
    "        'Average Reviews', \n",
    "        'Number of Best Sellers', \n",
    "        'Total Products Bought In Last Month', \n",
    "        'Max Price', \n",
    "        'Min Price', \n",
    "        'Price Range',\n",
    "        'Average Price Difference'\n",
    "    ],\n",
    "    'Brazil': [\n",
    "        brazil_df['Price'].mean(),\n",
    "        brazil_df['List Price'].mean(),\n",
    "        brazil_df['Stars'].mean(),\n",
    "        brazil_df['Reviews'].mean(),\n",
    "        brazil_df['Is Best Seller'].sum(),\n",
    "        brazil_df['Bought In Last Month'].sum(),\n",
    "        brazil_df['Price'].max(),\n",
    "        brazil_df['Price'].min(),\n",
    "        brazil_df['Price'].max() - brazil_df['Price'].min(),\n",
    "        (brazil_df['Price'] - canada_df['Price'].mean()).mean()\n",
    "    ],\n",
    "    'Canada': [\n",
    "        canada_df['Price'].mean(),\n",
    "        canada_df['List Price'].mean(),\n",
    "        canada_df['Stars'].mean(),\n",
    "        canada_df['Reviews'].mean(),\n",
    "        canada_df['Is Best Seller'].sum(),\n",
    "        canada_df['Bought In Last Month'].sum(),\n",
    "        canada_df['Price'].max(),\n",
    "        canada_df['Price'].min(),\n",
    "        canada_df['Price'].max() - canada_df['Price'].min(),\n",
    "        (canada_df['Price'] - brazil_df['Price'].mean()).mean()\n",
    "    ]\n",
    "}\n",
    "\n",
    "# Convert to DataFrame\n",
    "comparison_results_df = pd.DataFrame(comparison_results)\n",
    "\n",
    "# Save merged DataFrame and comparison results to CSV\n",
    "merged_df.to_csv('merged_products_comparison.csv', index=False)\n",
    "comparison_results_df.to_csv('comparison_results.csv', index=False)\n",
    "\n",
    "print(\"Files saved: 'merged_products_comparison.csv' and 'comparison_results.csv'\")\n"
   ]
  },
  {
   "cell_type": "code",
   "execution_count": 6,
   "metadata": {},
   "outputs": [
    {
     "name": "stdout",
     "output_type": "stream",
     "text": [
      "Empty DataFrame\n",
      "Columns: [asin, title_Brazil, imgUrl_Brazil, productURL_Brazil, stars_Brazil, reviews_Brazil, price_Brazil, listPrice_Brazil, categoryName_Brazil, isBestSeller_Brazil, boughtInLastMonth_Brazil, title_Canada, imgUrl_Canada, productURL_Canada, stars_Canada, reviews_Canada, price_Canada, listPrice_Canada, categoryName_Canada, isBestSeller_Canada, boughtInLastMonth_Canada]\n",
      "Index: []\n",
      "\n",
      "[0 rows x 21 columns]\n"
     ]
    }
   ],
   "source": [
    "import pandas as pd\n",
    "\n",
    "# Load the CSV files\n",
    "brazil_data = pd.read_csv('amz_br_total_products_data_processed.csv')\n",
    "canada_data = pd.read_csv('amz_ca_total_products_data_processed.csv')\n",
    "\n",
    "# Merge the files on the 'ASIN' column\n",
    "merged_data = pd.merge(brazil_data, canada_data, on='asin', suffixes=('_Brazil', '_Canada'))\n",
    "\n",
    "# Save the merged file to a new CSV\n",
    "merged_data.to_csv('merged_products_comparison.csv', index=False)\n",
    "\n",
    "# Check if the data has been merged correctly\n",
    "print(merged_data.head(10))\n"
   ]
  },
  {
   "cell_type": "code",
   "execution_count": 7,
   "metadata": {},
   "outputs": [
    {
     "name": "stderr",
     "output_type": "stream",
     "text": [
      "C:\\Users\\Aman\\AppData\\Local\\Temp\\ipykernel_19552\\859128805.py:9: MatplotlibDeprecationWarning: Keeping empty pdf files is deprecated since 3.8 and support will be removed in 3.10.\n",
      "  with PdfPages('merged_products_comparison.pdf') as pdf:\n"
     ]
    },
    {
     "ename": "IndexError",
     "evalue": "index 0 is out of bounds for axis 0 with size 0",
     "output_type": "error",
     "traceback": [
      "\u001b[1;31m---------------------------------------------------------------------------\u001b[0m",
      "\u001b[1;31mIndexError\u001b[0m                                Traceback (most recent call last)",
      "Cell \u001b[1;32mIn[7], line 13\u001b[0m\n\u001b[0;32m     11\u001b[0m ax\u001b[38;5;241m.\u001b[39maxis(\u001b[38;5;124m'\u001b[39m\u001b[38;5;124mtight\u001b[39m\u001b[38;5;124m'\u001b[39m)\n\u001b[0;32m     12\u001b[0m ax\u001b[38;5;241m.\u001b[39maxis(\u001b[38;5;124m'\u001b[39m\u001b[38;5;124moff\u001b[39m\u001b[38;5;124m'\u001b[39m)\n\u001b[1;32m---> 13\u001b[0m table \u001b[38;5;241m=\u001b[39m \u001b[43max\u001b[49m\u001b[38;5;241;43m.\u001b[39;49m\u001b[43mtable\u001b[49m\u001b[43m(\u001b[49m\u001b[43mcellText\u001b[49m\u001b[38;5;241;43m=\u001b[39;49m\u001b[43mmerged_data\u001b[49m\u001b[38;5;241;43m.\u001b[39;49m\u001b[43mvalues\u001b[49m\u001b[43m,\u001b[49m\u001b[43m \u001b[49m\u001b[43mcolLabels\u001b[49m\u001b[38;5;241;43m=\u001b[39;49m\u001b[43mmerged_data\u001b[49m\u001b[38;5;241;43m.\u001b[39;49m\u001b[43mcolumns\u001b[49m\u001b[43m,\u001b[49m\u001b[43m \u001b[49m\u001b[43mcellLoc\u001b[49m\u001b[38;5;241;43m=\u001b[39;49m\u001b[38;5;124;43m'\u001b[39;49m\u001b[38;5;124;43mcenter\u001b[39;49m\u001b[38;5;124;43m'\u001b[39;49m\u001b[43m,\u001b[49m\u001b[43m \u001b[49m\u001b[43mloc\u001b[49m\u001b[38;5;241;43m=\u001b[39;49m\u001b[38;5;124;43m'\u001b[39;49m\u001b[38;5;124;43mcenter\u001b[39;49m\u001b[38;5;124;43m'\u001b[39;49m\u001b[43m)\u001b[49m\n\u001b[0;32m     14\u001b[0m pdf\u001b[38;5;241m.\u001b[39msavefig(fig)\n\u001b[0;32m     15\u001b[0m plt\u001b[38;5;241m.\u001b[39mclose()\n",
      "File \u001b[1;32m~\\AppData\\Local\\Packages\\PythonSoftwareFoundation.Python.3.12_qbz5n2kfra8p0\\LocalCache\\local-packages\\Python312\\site-packages\\matplotlib\\table.py:749\u001b[0m, in \u001b[0;36mtable\u001b[1;34m(ax, cellText, cellColours, cellLoc, colWidths, rowLabels, rowColours, rowLoc, colLabels, colColours, colLoc, loc, bbox, edges, **kwargs)\u001b[0m\n\u001b[0;32m    746\u001b[0m     cellText \u001b[38;5;241m=\u001b[39m [[\u001b[38;5;124m'\u001b[39m\u001b[38;5;124m'\u001b[39m] \u001b[38;5;241m*\u001b[39m cols] \u001b[38;5;241m*\u001b[39m rows\n\u001b[0;32m    748\u001b[0m rows \u001b[38;5;241m=\u001b[39m \u001b[38;5;28mlen\u001b[39m(cellText)\n\u001b[1;32m--> 749\u001b[0m cols \u001b[38;5;241m=\u001b[39m \u001b[38;5;28mlen\u001b[39m(\u001b[43mcellText\u001b[49m\u001b[43m[\u001b[49m\u001b[38;5;241;43m0\u001b[39;49m\u001b[43m]\u001b[49m)\n\u001b[0;32m    750\u001b[0m \u001b[38;5;28;01mfor\u001b[39;00m row \u001b[38;5;129;01min\u001b[39;00m cellText:\n\u001b[0;32m    751\u001b[0m     \u001b[38;5;28;01mif\u001b[39;00m \u001b[38;5;28mlen\u001b[39m(row) \u001b[38;5;241m!=\u001b[39m cols:\n",
      "\u001b[1;31mIndexError\u001b[0m: index 0 is out of bounds for axis 0 with size 0"
     ]
    },
    {
     "data": {
      "image/png": "[encoded data removed]",
      "text/plain": [
       "<Figure size 1000x500 with 1 Axes>"
      ]
     },
     "metadata": {},
     "output_type": "display_data"
    }
   ],
   "source": [
    "import pandas as pd\n",
    "from matplotlib.backends.backend_pdf import PdfPages\n",
    "import matplotlib.pyplot as plt\n",
    "\n",
    "# Load the merged CSV file\n",
    "merged_data = pd.read_csv('merged_products_comparison.csv')\n",
    "\n",
    "# Convert the merged data to a PDF\n",
    "with PdfPages('merged_products_comparison.pdf') as pdf:\n",
    "    fig, ax = plt.subplots(figsize=(10, 5))  # Set figure size\n",
    "    ax.axis('tight')\n",
    "    ax.axis('off')\n",
    "    table = ax.table(cellText=merged_data.values, colLabels=merged_data.columns, cellLoc='center', loc='center')\n",
    "    pdf.savefig(fig)\n",
    "    plt.close()\n"
   ]
  },
  {
   "cell_type": "code",
   "execution_count": null,
   "metadata": {},
   "outputs": [],
   "source": []
  },
  {
   "cell_type": "code",
   "execution_count": null,
   "metadata": {},
   "outputs": [],
   "source": []
  },
  {
   "cell_type": "code",
   "execution_count": null,
   "metadata": {},
   "outputs": [],
   "source": []
  }
 ],
 "metadata": {
  "kernelspec": {
   "display_name": "Python 3",
   "language": "python",
   "name": "python3"
  },
  "language_info": {
   "codemirror_mode": {
    "name": "ipython",
    "version": 3
   },
   "file_extension": ".py",
   "mimetype": "text/x-python",
   "name": "python",
   "nbconvert_exporter": "python",
   "pygments_lexer": "ipython3",
   "version": "3.12.6"
  }
 },
 "nbformat": 4,
 "nbformat_minor": 2
}
